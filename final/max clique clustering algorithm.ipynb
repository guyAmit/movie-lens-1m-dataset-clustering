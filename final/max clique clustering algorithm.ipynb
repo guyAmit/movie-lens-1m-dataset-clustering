{
 "cells": [
  {
   "cell_type": "code",
   "execution_count": 2,
   "metadata": {},
   "outputs": [],
   "source": [
    "import numpy as np\n",
    "import networkx as nx\n",
    "import random"
   ]
  },
  {
   "cell_type": "code",
   "execution_count": 3,
   "metadata": {},
   "outputs": [],
   "source": [
    "users_max_id = 6040\n",
    "movie_max_id = 3952\n",
    "correlations_data = np.fromfile('./correlations_data_set_saved', dtype=float)\n",
    "correlations_data=correlations_data.reshape(movie_max_id+1,movie_max_id+1)\n",
    "\n",
    "correlations_indicator = np.load('./correlations_indicator_set_saved.npy')\n",
    "correlations_indicator=correlations_indicator.reshape(movie_max_id+1,movie_max_id+1)\n",
    "\n",
    "movie_name = np.load('./movies_names.npy')\n",
    "movie_name=movie_name.reshape(movie_max_id+1)\n",
    "\n",
    "bad_movies = np.load('./subsets/bad_movies.npy')\n",
    "bad_movies = bad_movies.reshape((-1))\n",
    "bad_movies = bad_movies.tolist()\n",
    "\n",
    "subset_size = 100\n",
    "current_cluster = []\n",
    "Indecies = np.array([x for x in range(0,movie_max_id+1)])"
   ]
  },
  {
   "cell_type": "code",
   "execution_count": 4,
   "metadata": {
    "scrolled": true
   },
   "outputs": [],
   "source": [
    "permutation= np.load('./subsets/subset104.npy')\n",
    "permutation=permutation.reshape((-1))\n",
    "permutation=permutation.astype(int)\n",
    "bad_indices = np.zeros((permutation.shape[0]), dtype=bool)\n",
    "for movie in bad_movies: \n",
    "    bad_indices = np.logical_or(permutation==movie,bad_indices)\n",
    "permutation=permutation[~(bad_indices.reshape(-1))]\n",
    "subset_size = permutation.shape[0]\n",
    "#print(permutation)\n",
    "ajdacency_matrix=(correlations_indicator[permutation,:])[:,permutation]"
   ]
  },
  {
   "cell_type": "code",
   "execution_count": 5,
   "metadata": {},
   "outputs": [],
   "source": [
    "E = []\n",
    "List = []\n",
    "for j in range (1,subset_size):\n",
    "    List.append(j)\n",
    "    for i in range (j +1, subset_size):\n",
    "        if ajdacency_matrix[j,i] == 1:\n",
    "            E.append([j,i])\n",
    "   "
   ]
  },
  {
   "cell_type": "code",
   "execution_count": 6,
   "metadata": {},
   "outputs": [],
   "source": [
    "G=nx.Graph()\n",
    "G.add_edges_from(E)\n",
    "# print(G.edges)"
   ]
  },
  {
   "cell_type": "code",
   "execution_count": 7,
   "metadata": {},
   "outputs": [
    {
     "name": "stdout",
     "output_type": "stream",
     "text": [
      "[3, 9, 37, 69, 73, 16, 4, 64, 33, 68, 77]\n[14, 67, 80, 51, 79]\n[17, 57, 81, 52, 30]\n[5, 24, 63, 43, 27]\n[71, 76, 48, 58, 6]\n[11, 34, 41, 23]\n[40, 78, 2, 12]\n[49, 39, 38, 66]\n[7, 10, 75]\n[19, 1, 45]\n[25, 50, 29]\n[47, 56, 44]\n[20, 62, 55]\n[65, 72]\n[70, 42]\n[8, 59]\n[15, 31]\n[82, 32]\n[18, 61]\n[53, 74]\n[13, 54]\n[22, 26]\n[60, 21]\n[35]\n[36]\n[28]\n[46]\n"
     ]
    }
   ],
   "source": [
    "clustering_vector = np.zeros((movie_max_id+1))\n",
    "current_cluster_number = 0\n",
    "while len(List)!=0:\n",
    "    current_cluster_number = current_cluster_number + 1\n",
    "    clique = list(nx.find_cliques(G))\n",
    "    clique = max(clique,key = len)\n",
    "#    clique = random.choice(clique)\n",
    "#    if len(clique)>3:\n",
    "#        clique = clique[0:3]\n",
    "    List = [x for x in List if x not in clique]\n",
    "    ##########################3\n",
    "    #printing without loop but need to decode every begining of str from the b'\n",
    "#    cluster_names = movie_name[clique]\n",
    "#    print(cluster_names)\n",
    "  #  cluster_names = np.chararray(cluster_names.shape, itemsize=60)\n",
    "    \n",
    "#    print('cluster '+str(current_cluster_number)+':'+'{'+ str(cluster_names))\n",
    "    ###############################\n",
    "    #loop for cluster printing\n",
    "    ####################\n",
    "#    print('{')\n",
    "#    for i in clique:\n",
    "#        print(movie_name[i].decode('ascii'))\n",
    "#    print('}')\n",
    "###################################\n",
    "    clustering_vector[ajdacency_matrix[0,clique].astype(int)]=current_cluster_number\n",
    "    G.remove_nodes_from(clique)\n",
    "    print(clique)\n",
    "#     size = size + len(clique)\n",
    "# print(size)"
   ]
  },
  {
   "cell_type": "code",
   "execution_count": 8,
   "metadata": {},
   "outputs": [
    {
     "name": "stdout",
     "output_type": "stream",
     "text": [
      "[11, 5, 5, 5, 5, 4, 4, 4, 3, 3, 3, 3, 3, 2, 2, 2, 2, 2, 2, 2, 2, 2, 2, 1, 1, 1, 1]\n82\n"
     ]
    }
   ],
   "source": [
    "data_clusters =np.unique(clustering_vector)\n",
    "sizes=[]\n",
    "for x in data_clusters[1:]:\n",
    "    cluster_size = np.sum((clustering_vector==x).astype(int))\n",
    "    sizes.append((cluster_size))\n",
    "print(sizes)\n",
    "print(np.sum(np.array(sizes)))"
   ]
  },
  {
   "cell_type": "code",
   "execution_count": 11,
   "metadata": {},
   "outputs": [
    {
     "name": "stdout",
     "output_type": "stream",
     "text": [
      "685.7952080620183\n"
     ]
    }
   ],
   "source": [
    "cost=0\n",
    "for c in range(1,len(data_clusters)+1):\n",
    "    cluster = (clustering_vector == c)\n",
    "    if np.sum(cluster.astype(int))==1:\n",
    "        cost=cost + np.log(1/(correlations_data[Indecies[cluster][0],Indecies[cluster][0]]))\n",
    "    else:\n",
    "        c_i=0\n",
    "        for t in Indecies[cluster]:\n",
    "            for j in Indecies[cluster]:\n",
    "                if t!=j:\n",
    "                    if correlations_data[t,j]==0:\n",
    "                            correlations_data[t,j]=correlations_data[j,t]\n",
    "                    c_i=c_i+np.log(1/correlations_data[t,j])\n",
    "        cost=cost+(c_i/2)*(1/(np.sum(cluster)-1))\n",
    "print(cost)"
   ]
  },
  {
   "cell_type": "code",
   "execution_count": null,
   "metadata": {},
   "outputs": [],
   "source": []
  },
  {
   "cell_type": "code",
   "execution_count": 13,
   "metadata": {},
   "outputs": [
    {
     "name": "stdout",
     "output_type": "stream",
     "text": [
      "323 "
     ]
    },
    {
     "name": "stdout",
     "output_type": "stream",
     "text": [
      ", "
     ]
    },
    {
     "name": "stdout",
     "output_type": "stream",
     "text": [
      "1355 "
     ]
    },
    {
     "name": "stdout",
     "output_type": "stream",
     "text": [
      "Nightwatch (1997), "
     ]
    },
    {
     "name": "stdout",
     "output_type": "stream",
     "text": [
      "1506 "
     ]
    },
    {
     "name": "stdout",
     "output_type": "stream",
     "text": [
      ", "
     ]
    },
    {
     "name": "stdout",
     "output_type": "stream",
     "text": [
      "1803 "
     ]
    },
    {
     "name": "stdout",
     "output_type": "stream",
     "text": [
      ", "
     ]
    },
    {
     "name": "stdout",
     "output_type": "stream",
     "text": [
      "1818 "
     ]
    },
    {
     "name": "stdout",
     "output_type": "stream",
     "text": [
      ", "
     ]
    },
    {
     "name": "stdout",
     "output_type": "stream",
     "text": [
      "1828 "
     ]
    },
    {
     "name": "stdout",
     "output_type": "stream",
     "text": [
      ", "
     ]
    },
    {
     "name": "stdout",
     "output_type": "stream",
     "text": [
      "1979 "
     ]
    },
    {
     "name": "stdout",
     "output_type": "stream",
     "text": [
      "Friday the 13th Part VI: Jason Lives (1986), "
     ]
    },
    {
     "name": "stdout",
     "output_type": "stream",
     "text": [
      "1986 "
     ]
    },
    {
     "name": "stdout",
     "output_type": "stream",
     "text": [
      "Halloween 5: The Revenge of Michael Myers (1989), "
     ]
    },
    {
     "name": "stdout",
     "output_type": "stream",
     "text": [
      "1987 "
     ]
    },
    {
     "name": "stdout",
     "output_type": "stream",
     "text": [
      "Prom Night (1980), "
     ]
    },
    {
     "name": "stdout",
     "output_type": "stream",
     "text": [
      "2781 "
     ]
    },
    {
     "name": "stdout",
     "output_type": "stream",
     "text": [
      "Tingler, The (1959), "
     ]
    },
    {
     "name": "stdout",
     "output_type": "stream",
     "text": [
      "2782 "
     ]
    },
    {
     "name": "stdout",
     "output_type": "stream",
     "text": [
      "Pit and the Pendulum (1961), "
     ]
    },
    {
     "name": "stdout",
     "output_type": "stream",
     "text": [
      "\n\n2491 "
     ]
    },
    {
     "name": "stdout",
     "output_type": "stream",
     "text": [
      "Simply Irresistible (1999), "
     ]
    },
    {
     "name": "stdout",
     "output_type": "stream",
     "text": [
      "2670 "
     ]
    },
    {
     "name": "stdout",
     "output_type": "stream",
     "text": [
      "Run Silent, Run Deep (1958), "
     ]
    },
    {
     "name": "stdout",
     "output_type": "stream",
     "text": [
      "2707 "
     ]
    },
    {
     "name": "stdout",
     "output_type": "stream",
     "text": [
      "Arlington Road (1999), "
     ]
    },
    {
     "name": "stdout",
     "output_type": "stream",
     "text": [
      "2770 "
     ]
    },
    {
     "name": "stdout",
     "output_type": "stream",
     "text": [
      "Bowfinger (1999), "
     ]
    },
    {
     "name": "stdout",
     "output_type": "stream",
     "text": [
      "2805 "
     ]
    },
    {
     "name": "stdout",
     "output_type": "stream",
     "text": [
      "Mickey Blue Eyes (1999), "
     ]
    },
    {
     "name": "stdout",
     "output_type": "stream",
     "text": [
      "\n\n203 "
     ]
    },
    {
     "name": "stdout",
     "output_type": "stream",
     "text": [
      "To Wong Foo, Thanks for Everything! Julie Newmar (1995), "
     ]
    },
    {
     "name": "stdout",
     "output_type": "stream",
     "text": [
      "312 "
     ]
    },
    {
     "name": "stdout",
     "output_type": "stream",
     "text": [
      "Stuart Saves His Family (1995), "
     ]
    },
    {
     "name": "stdout",
     "output_type": "stream",
     "text": [
      "325 "
     ]
    },
    {
     "name": "stdout",
     "output_type": "stream",
     "text": [
      "National Lampoon's Senior Trip (1995), "
     ]
    },
    {
     "name": "stdout",
     "output_type": "stream",
     "text": [
      "437 "
     ]
    },
    {
     "name": "stdout",
     "output_type": "stream",
     "text": [
      "Cops and Robbersons (1994), "
     ]
    },
    {
     "name": "stdout",
     "output_type": "stream",
     "text": [
      "1520 "
     ]
    },
    {
     "name": "stdout",
     "output_type": "stream",
     "text": [
      "Commandments (1997), "
     ]
    },
    {
     "name": "stdout",
     "output_type": "stream",
     "text": [
      "\n\n247 "
     ]
    },
    {
     "name": "stdout",
     "output_type": "stream",
     "text": [
      "Heavenly Creatures (1994), "
     ]
    },
    {
     "name": "stdout",
     "output_type": "stream",
     "text": [
      "324 "
     ]
    },
    {
     "name": "stdout",
     "output_type": "stream",
     "text": [
      "Sum of Us, The (1994), "
     ]
    },
    {
     "name": "stdout",
     "output_type": "stream",
     "text": [
      "2575 "
     ]
    },
    {
     "name": "stdout",
     "output_type": "stream",
     "text": [
      "Dreamlife of Angels, The (La Vie rve des anges) (1998), "
     ]
    },
    {
     "name": "stdout",
     "output_type": "stream",
     "text": [
      "3010 "
     ]
    },
    {
     "name": "stdout",
     "output_type": "stream",
     "text": [
      "Rosetta (1999), "
     ]
    },
    {
     "name": "stdout",
     "output_type": "stream",
     "text": [
      "3794 "
     ]
    },
    {
     "name": "stdout",
     "output_type": "stream",
     "text": [
      "Chuck & Buck (2000), "
     ]
    },
    {
     "name": "stdout",
     "output_type": "stream",
     "text": [
      "\n\n"
     ]
    },
    {
     "name": "stdout",
     "output_type": "stream",
     "text": [
      "365 "
     ]
    },
    {
     "name": "stdout",
     "output_type": "stream",
     "text": [
      "Little Buddha (1993), "
     ]
    },
    {
     "name": "stdout",
     "output_type": "stream",
     "text": [
      "991 "
     ]
    },
    {
     "name": "stdout",
     "output_type": "stream",
     "text": [
      "Michael Collins (1996), "
     ]
    },
    {
     "name": "stdout",
     "output_type": "stream",
     "text": [
      "1733 "
     ]
    },
    {
     "name": "stdout",
     "output_type": "stream",
     "text": [
      "Afterglow (1997), "
     ]
    },
    {
     "name": "stdout",
     "output_type": "stream",
     "text": [
      "2419 "
     ]
    },
    {
     "name": "stdout",
     "output_type": "stream",
     "text": [
      "Extremities (1986), "
     ]
    },
    {
     "name": "stdout",
     "output_type": "stream",
     "text": [
      "3906 "
     ]
    },
    {
     "name": "stdout",
     "output_type": "stream",
     "text": [
      "Under Suspicion (2000), "
     ]
    },
    {
     "name": "stdout",
     "output_type": "stream",
     "text": [
      "\n\n986 "
     ]
    }
   ],
   "source": [
    "for c in range(1,len(data_clusters)+1):\n",
    "    cluster = (clustering_vector == c)\n",
    "    for i in Indecies[cluster]:\n",
    "            print(str(i) + ' ' , end='', flush=True)\n",
    "            print(movie_name[i].decode('ascii')+\", \",end='', flush=True)\n",
    "    print(\"\")\n",
    "    print()\n"
   ]
  },
  {
   "cell_type": "code",
   "execution_count": 42,
   "metadata": {},
   "outputs": [],
   "source": [
    "    cluster_names = movie_name[clique]\n",
    "    print(cluster_names)\n",
    "  #  cluster_names = np.chararray(cluster_names.shape, itemsize=60)\n",
    "    \n",
    "    print('cluster '+str(current_cluster_number)+':'+'{'+ str(cluster_names))\n",
    "    ###############################\n",
    "    #loop for cluster printing\n",
    "    ####################\n",
    "#    print('{')\n",
    "#    for i in clique:\n",
    "#        print(movie_name[i].decode('ascii'))\n",
    "#    print('}')"
   ]
  },
  {
   "cell_type": "code",
   "execution_count": 77,
   "metadata": {},
   "outputs": [
    {
     "name": "stdout",
     "output_type": "stream",
     "text": [
      "[   0 3930 1576 1253 1495 2176 3456 1375 1250   70 3781 3768 1755  384\n",
      "  373 3859  574 1067 3384 1130 3143  504 3004 1836 1412 2961 3724 1725\n",
      " 2901 1835 2231  390 3075  943  262 2847 2247 1195  365 1328  427 2265\n",
      "  129 2365  290 3101 3588  494 3909 1619   66  249 1381 1409  446 3050\n",
      "  173 1233 3939   64 2863 3430  422 2153  556 2104 2211  718 2589 3624\n",
      "  211 1099  146 3324 2051 2384 1676 2269 2927 1059 3018 3585 1680  203\n",
      "  970 3602 3361]\n"
     ]
    }
   ],
   "source": [
    "print(permutation)"
   ]
  },
  {
   "cell_type": "code",
   "execution_count": 19,
   "metadata": {},
   "outputs": [
    {
     "name": "stdout",
     "output_type": "stream",
     "text": [
      "323 , 1355 Nightwatch (1997), 1506 , 1803 , 1818 , 1828 , 1979 Friday the 13th Part VI: Jason Lives (1986), 1986 Halloween 5: The Revenge of Michael Myers (1989), 1987 Prom Night (1980), 2781 Tingler, The (1959), 2782 Pit and the Pendulum (1961)\n2491 Simply Irresistible (1999), 2670 Run Silent, Run Deep (1958), 2707 Arlington Road (1999), 2770 Bowfinger (1999), 2805 Mickey Blue Eyes (1999)\n203 To Wong Foo, Thanks for Everything! Julie Newmar (1995), 312 Stuart Saves His Family (1995), 325 National Lampoon's Senior Trip (1995), 437 Cops and Robbersons (1994), 1520 Commandments (1997)\n247 Heavenly Creatures (1994), 324 Sum of Us, The (1994), 2575 Dreamlife of Angels, The (La Vie rve des anges) (1998), 3010 Rosetta (1999), 3794 Chuck & Buck (2000)\n365 Little Buddha (1993), 991 Michael Collins (1996), 1733 Afterglow (1997), 2419 Extremities (1986), 3906 Under Suspicion (2000)\n986 Fly Away Home (1996), 1489 Cats Don't Dance (1997), 2090 Rescuers, The (1977), 3287 Tigger Movie, The (2000)\n2068 Fanny and Alexander (1982), 2345 Desert Bloom (1986), 2639 Mommie Dearest (1981), 3412 Bear, The (1988)\n1423 Hearts and Minds (1996), 1575 Gabbeh (1996), 2349 Mona Lisa (1986), 3742 Battleship Potemkin, The (Bronenosets Potyomkin) (1925)\n266 Legends of the Fall (1994), 2106 Swing Kids (1993), 3441 Red Dawn (1984)\n902 Breakfast at Tiffany's (1961), 2884 Dog Park (1998), 3521 Mystery Train (1989)\n397 Fear, The (1995), 1347 Nightmare on Elm Street, A (1984), 2338 I Still Know What You Did Last Summer (1998)\n1882 Godzilla (1998), 3401 Baby... Secret of the Lost Legend (1985), 3827 Space Cowboys (2000)\n3539 Filth and the Fury, The (2000), 3720 Sunshine (1999), 3886 Steal This Movie! (2000)\n16 Casino (1995), 481 Kalifornia (1993)\n858 Godfather, The (1972), 1817 No Looking Back (1998)\n199 Umbrellas of Cherbourg, The (Parapluies de Cherbourg, Les) (, 2206 Suspicion (1941)\n528 Scout, The (1994), 3546 What Ever Happened to Baby Jane? (1962)\n3447 Good Earth, The (1937), 3461 Lord of the Flies (1963)\n104 Happy Gilmore (1996), 1632 Smile Like Yours, A (1997)\n2261 One Crazy Summer (1986), 3740 Big Trouble in Little China (1986)\n3018 Re-Animator (1985), 3698 Running Man, The (1987)\n1965 Repo Man (1984), 2173 Navigator: A Mediaeval Odyssey, The (1988)\n260 Star Wars: Episode IV - A New Hope (1977), 3731 Cutter's Way (1981)\n1265 Groundhog Day (1993)\n2775 Head On (1998)\n1125 Return of the Pink Panther, The (1974)\n1230 Annie Hall (1977)\n\n"
     ]
    }
   ],
   "source": [
    "for c in range(1,len(data_clusters)+1):\n",
    "    cluster = (clustering_vector == c)\n",
    "    cluster_names=''\n",
    "    for i in Indecies[cluster]:\n",
    "            cluster_names=cluster_names+str(i)+' '\n",
    "            cluster_names=cluster_names+movie_name[i].decode('ascii')+\", \"\n",
    "    print(cluster_names[:-2])\n"
   ]
  },
  {
   "cell_type": "code",
   "execution_count": null,
   "metadata": {},
   "outputs": [],
   "source": []
  }
 ],
 "metadata": {
  "kernelspec": {
   "display_name": "Python 3",
   "language": "python",
   "name": "python3"
  },
  "language_info": {
   "codemirror_mode": {
    "name": "ipython",
    "version": 3
   },
   "file_extension": ".py",
   "mimetype": "text/x-python",
   "name": "python",
   "nbconvert_exporter": "python",
   "pygments_lexer": "ipython3",
   "version": "3.6.4"
  }
 },
 "nbformat": 4,
 "nbformat_minor": 2
}
