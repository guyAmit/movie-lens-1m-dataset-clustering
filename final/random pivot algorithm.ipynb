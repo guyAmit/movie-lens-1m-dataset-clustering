{
 "cells": [
  {
   "cell_type": "code",
   "execution_count": 41,
   "metadata": {},
   "outputs": [],
   "source": [
    "import numpy as np"
   ]
  },
  {
   "cell_type": "code",
   "execution_count": 58,
   "metadata": {},
   "outputs": [],
   "source": [
    "users_max_id = 6040\n",
    "movie_max_id = 3952\n",
    "correlations_data = np.fromfile('./correlations_data_set_saved', dtype=float)\n",
    "correlations_data=correlations_data.reshape(movie_max_id+1,movie_max_id+1)\n",
    "\n",
    "correlations_indicator = np.load('./correlations_indicator_set_saved.npy')\n",
    "correlations_indicator=correlations_indicator.reshape(movie_max_id+1,movie_max_id+1)\n",
    "\n",
    "bad_movies = np.load('./subsets/bad_movies.npy')\n",
    "bad_movies = bad_movies.reshape((-1)).tolist()\n",
    "\n",
    "subset_size=100\n",
    "Indecies = np.array([x for x in range(0,movie_max_id+1)])"
   ]
  },
  {
   "cell_type": "code",
   "execution_count": 191,
   "metadata": {},
   "outputs": [
    {
     "name": "stdout",
     "output_type": "stream",
     "text": [
      "[   0 3811  918 3797 2740  344  537 3405 3068 1970  802 2694  927 1204\n",
      "  900  733 1375 2417  960   35 2232 2837  751  807 3033  432 3054 3032\n",
      "  338 1770 3134 2581 1853  188  779  964 1734 1824 1167  152 3936 2688\n",
      " 3627 2990  357 3649 1449 2870 2284 1278 2362 2534 3755 1581 2925 3527\n",
      " 1081  905 2278 1981 1342 3661  409  186 2751 1373  527 1074 2426 2674\n",
      " 2000 3734 2839 1346 1715  280 1011  577  612 2465 3886 1814 2650 3181\n",
      " 2103]\n",
      "84\n"
     ]
    }
   ],
   "source": [
    "permutation= np.loadtxt('./subsets/randomsubset20')\n",
    "permutation=permutation.reshape((-1)).astype(int)\n",
    "bad_indices = np.zeros((permutation.shape[0]), dtype=bool)\n",
    "for movie in bad_movies: \n",
    "    bad_indices = np.logical_or(permutation==movie,bad_indices)\n",
    "permutation=permutation[~(bad_indices.reshape(-1))]\n",
    "subset_size = permutation.shape[0]\n",
    "ajdacency_matrix=np.zeros((subset_size+1,subset_size+1))\n",
    "ajdacency_matrix=(correlations_indicator[permutation,:])[:,permutation]\n",
    "print(permutation)\n",
    "print(subset_size-1)"
   ]
  },
  {
   "cell_type": "code",
   "execution_count": 192,
   "metadata": {
    "scrolled": false
   },
   "outputs": [],
   "source": [
    "# ###############\n",
    "# change W to be the head of the list we get\n",
    "clustering_vector = np.zeros((20,movie_max_id+1))\n",
    "for i in range(0,20):\n",
    "    ajdacency_matrix_copy = np.copy(ajdacency_matrix)\n",
    "    current_cluster_number = 0\n",
    "    W = np.ones((subset_size))\n",
    "    W[0]=0\n",
    "    while np.sum(W) != 0:\n",
    "        v = np.random.choice(np.argwhere(W>0).reshape(-1),size=1)[0]\n",
    "        current_cluster_number = current_cluster_number + 1\n",
    "        clustering_vector[ i,ajdacency_matrix_copy[0,v].astype(int)] = current_cluster_number\n",
    "        movie_array = np.logical_and(ajdacency_matrix_copy[v,:]==1,W==1) \n",
    "        rand_array = np.random.rand(W.shape[0])\n",
    "        movie_array = np.logical_and(movie_array==1,rand_array<=0.5)\n",
    "        ajdacency_matrix_copy[1:,movie_array]=0\n",
    "        ajdacency_matrix_copy[movie_array,1:]=0\n",
    "        W[movie_array]=0\n",
    "        clustering_vector[i,ajdacency_matrix_copy[0,movie_array].astype(int)]=current_cluster_number\n",
    "        "
   ]
  },
  {
   "cell_type": "code",
   "execution_count": 193,
   "metadata": {},
   "outputs": [
    {
     "name": "stdout",
     "output_type": "stream",
     "text": [
      "clustering 2 is the best, with cost: 630.5330887070006\n"
     ]
    }
   ],
   "source": [
    "costs=[]\n",
    "for i in range(0,20):\n",
    "    cost=0\n",
    "    data_clusters = np.unique(clustering_vector[i,:])\n",
    "    for c in range(1,len(data_clusters)+1):\n",
    "        cluster = (clustering_vector[i,:] == c)\n",
    "        if np.sum(cluster.astype(int))==1:\n",
    "            cost=cost + np.log(1/(correlations_data[Indecies[cluster][0],Indecies[cluster][0]]))\n",
    "        else:\n",
    "            c_i=0\n",
    "            for t in Indecies[cluster]:\n",
    "                for j in Indecies[cluster]:\n",
    "                    if t!=j:\n",
    "                        if correlations_data[t,j]==0:\n",
    "                                correlations_data[t,j]=correlations_data[j,t]\n",
    "                        c_i=c_i+np.log(1/correlations_data[t,j])\n",
    "            cost=cost+(c_i/2)*(1/(np.sum(cluster)-1))\n",
    "    costs.append(cost)\n",
    "np_costs = np.array(costs)\n",
    "print('clustering {} is the best, with cost: {}'.format(np.argmin(np_costs),np.min(np_costs)))"
   ]
  },
  {
   "cell_type": "code",
   "execution_count": null,
   "metadata": {},
   "outputs": [],
   "source": []
  },
  {
   "cell_type": "code",
   "execution_count": null,
   "metadata": {},
   "outputs": [],
   "source": []
  },
  {
   "cell_type": "code",
   "execution_count": null,
   "metadata": {},
   "outputs": [],
   "source": []
  },
  {
   "cell_type": "code",
   "execution_count": null,
   "metadata": {},
   "outputs": [],
   "source": []
  },
  {
   "cell_type": "code",
   "execution_count": null,
   "metadata": {},
   "outputs": [],
   "source": []
  },
  {
   "cell_type": "code",
   "execution_count": null,
   "metadata": {},
   "outputs": [],
   "source": []
  },
  {
   "cell_type": "code",
   "execution_count": null,
   "metadata": {},
   "outputs": [],
   "source": []
  }
 ],
 "metadata": {
  "kernelspec": {
   "display_name": "Python 3",
   "language": "python",
   "name": "python3"
  },
  "language_info": {
   "codemirror_mode": {
    "name": "ipython",
    "version": 3
   },
   "file_extension": ".py",
   "mimetype": "text/x-python",
   "name": "python",
   "nbconvert_exporter": "python",
   "pygments_lexer": "ipython3",
   "version": "3.6.4"
  }
 },
 "nbformat": 4,
 "nbformat_minor": 2
}
