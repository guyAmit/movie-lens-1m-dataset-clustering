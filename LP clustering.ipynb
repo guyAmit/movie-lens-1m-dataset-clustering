{
 "cells": [
  {
   "cell_type": "code",
   "execution_count": 1,
   "metadata": {},
   "outputs": [],
   "source": [
    "import numpy as np\n",
    "import pulp "
   ]
  },
  {
   "cell_type": "code",
   "execution_count": 2,
   "metadata": {},
   "outputs": [],
   "source": [
    "users_max_id = 6040\n",
    "movie_max_id = 3952\n",
    "correlations_data = np.fromfile('./correlations_data_set_saved', dtype=float)\n",
    "correlations_data=correlations_data.reshape(movie_max_id+1,movie_max_id+1)\n",
    "\n",
    "correlations_indicator = np.load('./correlations_indicator_set_saved.npy')\n",
    "correlations_indicator=correlations_indicator.reshape(movie_max_id+1,movie_max_id+1)\n",
    "\n",
    "bad_movies = np.load('./subsets/bad_movies.npy')\n",
    "bad_movies = bad_movies.reshape((-1)).tolist()\n",
    "\n",
    "subset_size=100\n",
    "Indecies = np.array([x for x in range(0,movie_max_id+1)])"
   ]
  },
  {
   "cell_type": "code",
   "execution_count": 9,
   "metadata": {},
   "outputs": [
    {
     "name": "stdout",
     "output_type": "stream",
     "text": [
      "[   0 3572 1383 2899 1151 1854 3046 2758  422 3135 3250 3738 3061 3454\n",
      " 2032  211   52  257   84 1007 1880 2019  944 2764 3536 1603 2940 3751\n",
      " 2755  306 3820  116  240 2834 1199 1766 3213 3926  365 3880 3943 1358\n",
      "   10 1711  519 3571 2502 1866 2116 1958 1747 1268 1546  181 2658  102\n",
      " 1493 1150  573 3867 3093  743  352  923 2161 2171  941  610 2149 3499\n",
      " 1813 2072 3017 3073 1779 1539 2598 2005 3940  236 3946 1061  467  461\n",
      " 1332  524 3610]\n",
      "86\n"
     ]
    }
   ],
   "source": [
    "permutation= np.loadtxt('./subsets/randomsubset11')\n",
    "permutation=permutation.reshape((-1)).astype(int)\n",
    "#permutation = np.array(range(0,101))\n",
    "bad_indices = np.zeros((permutation.shape[0]), dtype=bool)\n",
    "for movie in bad_movies: \n",
    "    bad_indices = np.logical_or(permutation==movie,bad_indices)\n",
    "permutation=permutation[~(bad_indices.reshape(-1))]\n",
    "subset_size = permutation.shape[0]\n",
    "ajdacency_matrix=np.zeros((subset_size+1,subset_size+1))\n",
    "ajdacency_matrix=(correlations_indicator[permutation,:])[:,permutation]\n",
    "probabilty_matrix= np.zeros((subset_size+1,subset_size+1))\n",
    "probabilty_matrix = (correlations_data[permutation,:])[:,permutation]\n",
    "print(permutation)\n",
    "print(subset_size-1)"
   ]
  },
  {
   "cell_type": "code",
   "execution_count": 10,
   "metadata": {},
   "outputs": [],
   "source": [
    "temp_ajd = ajdacency_matrix[1:,1:]\n",
    "temp_prob = np.log(1/(probabilty_matrix[1:,1:]+1e-10))\n",
    "lmbda=10"
   ]
  },
  {
   "cell_type": "code",
   "execution_count": null,
   "metadata": {},
   "outputs": [],
   "source": []
  },
  {
   "cell_type": "code",
   "execution_count": 11,
   "metadata": {},
   "outputs": [
    {
     "name": "stderr",
     "output_type": "stream",
     "text": [
      "C:\\ProgramData\\Anaconda3\\lib\\site-packages\\pulp\\pulp.py:1349: UserWarning: Overwriting previously set objective.\n",
      "  warnings.warn(\"Overwriting previously set objective.\")\n"
     ]
    }
   ],
   "source": [
    "ILP = pulp.LpProblem(\"find clusters\",pulp.LpMinimize)\n",
    "x={}\n",
    "xi={}\n",
    "for i in range(0,subset_size-1):\n",
    "    for j in range(i+1,subset_size-1):\n",
    "        x[str(i)+','+str(j)]=pulp.LpVariable('x'+str(i)+str(j), cat='Continuous',lowBound=0.0,upBound=1.0)\n",
    "        xi[str(i)+','+str(j)]=pulp.LpVariable('xi'+str(i)+str(j), cat='Continuous',lowBound=0.0,upBound=1.0)\n",
    "\n",
    "ILP+=pulp.LpAffineExpression([(x[str(i)+','+str(j)],temp_ajd[i,j]*temp_prob[i,j])\n",
    "                             for i in range(0,subset_size-1) for j in range(i+1,subset_size-1)])\n",
    "ILP+=pulp.LpAffineExpression([(xi[str(i)+','+str(j)] ,lmbda*(1-temp_ajd[i,j])*(temp_prob[i,j]))\n",
    "                             for i in range(0,subset_size-1) for j in range(i+1,subset_size-1)])\n",
    "\n",
    "for i in range(0,subset_size-1):\n",
    "    for j in range(i+1,subset_size-1):\n",
    "        for w in range(0,subset_size-1):\n",
    "            if w!=j and w!=i:\n",
    "                ILP+=x[str(i)+','+str(j)] <= x[str(min(i,w))+','+str(max(i,w))]+ x[str(min(j,w))+','+str(max(w,j))]\n",
    "        ILP+=xi[str(i)+','+str(j)] == 1-x[str(i)+','+str(j)]"
   ]
  },
  {
   "cell_type": "code",
   "execution_count": 12,
   "metadata": {},
   "outputs": [
    {
     "data": {
      "text/plain": [
       "1"
      ]
     },
     "execution_count": 12,
     "metadata": {},
     "output_type": "execute_result"
    }
   ],
   "source": [
    "ILP.solve()"
   ]
  },
  {
   "cell_type": "code",
   "execution_count": 1,
   "metadata": {},
   "outputs": [],
   "source": [
    "# for i in range(0,subset_size-1):\n",
    "#     for j in range(i+1,subset_size-1):\n",
    "#         print(1-pulp.value(x[str(i)+','+str(j)]),temp_ajd[i,j])"
   ]
  },
  {
   "cell_type": "code",
   "execution_count": 398,
   "metadata": {},
   "outputs": [],
   "source": [
    "clustering_vector = np.zeros((10,movie_max_id+1))\n",
    "for i in range(0,10):\n",
    "    current_cluster_number = 0\n",
    "    W = np.zeros(subset_size-1)\n",
    "    ajdacency_matrix_copy = np.copy(ajdacency_matrix)\n",
    "    while(np.sum(1-W)!=0):\n",
    "        v = np.random.choice(np.argwhere(W==0).reshape(-1),size=1)[0]\n",
    "        current_cluster_number=current_cluster_number+1\n",
    "        W[v]=1\n",
    "        clustering_vector[i,ajdacency_matrix_copy[0,v+1].astype(int)]=current_cluster_number                 \n",
    "        for j in range(1,subset_size-1):\n",
    "            if v!=j:\n",
    "                rand= np.random.rand(1)\n",
    "                if rand<=1-pulp.value(x[str(min(v,j))+','+str(max(j,v))]):\n",
    "                    clustering_vector[i,ajdacency_matrix_copy[0,j+1].astype(int)]=current_cluster_number  \n",
    "                    W[j]=1"
   ]
  },
  {
   "cell_type": "code",
   "execution_count": 399,
   "metadata": {},
   "outputs": [],
   "source": [
    "# data_clusters =np.unique(clustering_vector)\n",
    "# sizes=[]\n",
    "# for x in data_clusters[1:]:\n",
    "#     cluster_size = np.sum((clustering_vector==x).astype(int))\n",
    "#     sizes.append((x,cluster_size))\n",
    "# print(sizes)\n",
    "# print(subset_size-1)"
   ]
  },
  {
   "cell_type": "code",
   "execution_count": 400,
   "metadata": {},
   "outputs": [
    {
     "name": "stdout",
     "output_type": "stream",
     "text": [
      "clustering 8 is the best, with cost: 460.76719287323425\n"
     ]
    }
   ],
   "source": [
    "costs=[]\n",
    "for i in range(0,10):\n",
    "    cost=0\n",
    "    data_clusters = np.unique(clustering_vector[i,:])\n",
    "    for c in range(1,len(data_clusters)+1):\n",
    "        cluster = (clustering_vector[i,:] == c)\n",
    "        if np.sum(cluster.astype(int))==1:\n",
    "            cost=cost + np.log(1/(correlations_data[Indecies[cluster][0],Indecies[cluster][0]]))\n",
    "        else:\n",
    "            c_i=0\n",
    "            for t in Indecies[cluster]:\n",
    "                for j in Indecies[cluster]:\n",
    "                    if t!=j:\n",
    "                        if correlations_data[t,j]==0:\n",
    "                                correlations_data[t,j]=correlations_data[j,t]\n",
    "                        c_i=c_i+np.log(1/correlations_data[t,j])\n",
    "            cost=cost+(c_i/2)*(1/(np.sum(cluster)-1))\n",
    "    costs.append(cost)\n",
    "np_costs = np.array(costs)\n",
    "print('clustering {} is the best, with cost: {}'.format(np.argmin(np_costs),np.min(np_costs)))"
   ]
  },
  {
   "cell_type": "code",
   "execution_count": null,
   "metadata": {},
   "outputs": [],
   "source": []
  },
  {
   "cell_type": "code",
   "execution_count": null,
   "metadata": {},
   "outputs": [],
   "source": []
  },
  {
   "cell_type": "code",
   "execution_count": null,
   "metadata": {},
   "outputs": [],
   "source": []
  }
 ],
 "metadata": {
  "kernelspec": {
   "display_name": "Python 3",
   "language": "python",
   "name": "python3"
  },
  "language_info": {
   "codemirror_mode": {
    "name": "ipython",
    "version": 3
   },
   "file_extension": ".py",
   "mimetype": "text/x-python",
   "name": "python",
   "nbconvert_exporter": "python",
   "pygments_lexer": "ipython3",
   "version": "3.6.4"
  }
 },
 "nbformat": 4,
 "nbformat_minor": 2
}
