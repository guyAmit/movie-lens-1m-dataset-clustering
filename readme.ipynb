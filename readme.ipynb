{
 "cells": [
  {
   "cell_type": "markdown",
   "metadata": {},
   "source": [
    "# Clustering of the M1-movielens dataset\n",
    "\n",
    "## clarifications:\n",
    "this is a university assignment. the definitions below belongs to dr.sabto at the Ben gurion University. the implementation and the algorithms are mine ([guyAmit](https://github.com/guyAmit)) and yuval hadad(no github yet)\n",
    "\n",
    "## goal:\n",
    ">Cluster subsets of movies, from the data set according to the following objective function. i.e. find a partition of the subset $C = \\{c_1,c_2,\\ldots,c_m\\}$ \n",
    "$ \\forall c_i, c_j \\in C: c_i \\ c_j = \\emptyset$ and $ Cost(C) \\rightarrow min $.\n",
    "\n",
    "### definitions: \n",
    "  - $p(m)$ - the probability that a user will rate the movie m\n",
    "  - $p(m_i,m_j)$ - the probability  that a user will rate both the movies $m_i$ and $m_j$\n",
    "  - objective function: a function that measure  the 'price' of a partition\n",
    "  - $Cost(C) = \\sum_{i=1}^n cost(c_i)$\n",
    "  - $$ cost(c_i) =  \\begin{cases}\n",
    "  \\sum_{m_i\\in C} \\sum_{m_j \\neq m_i , m_j\\in C} \\frac {1}{|C| -1} \\cdot log(\\frac {1} {log(p(m_i,m_j))} &|C|\\geq 2\\\\\n",
    "  log(\\frac {1} {p(m)}) &|C|=1 \\text{ and } C=\\{m\\}\\end{cases} $$\n",
    "  \n",
    "### probabilty estimations from the dataset:\n",
    "- let $N$ be the number of users in the dataset\n",
    "- let $k$ be the number of movies in the dataset\n",
    "- let $n_i$ be the number of movies that user $i$ watched\n",
    "- $v_i(j)=1$ if and only if user $i$ watched movie $m_j$ \n",
    "- $n_i = \\sum_{j=1}^k v_i(j)$\n",
    "- finly we define the probabilties to be: \n",
    "$$p(m_j) = \\frac{1}{N+1}\\cdot \\big( \\frac{2}{k} +\\sum_{i=1}^N \\frac {2}{n_i} \\cdot v_i(j) \\big) $$\n",
    "$$p(m_j,m_t) = \\frac{1}{N+1} \\cdot \\big(\\frac{2}{k(k-1)} +\\sum_{i=1}^N \\frac {2}{n_i(n_i -1} \\cdot v_i(j)v_i(t) \\big )$$\n",
    "\n",
    "### this repo include:\n",
    "- a roport on the project\n",
    "- several clustering algorithems\n",
    "- in the final folder there is the final algorithm. to use it - download the folder and follow the insteractions below: > <br/>\n",
    " run $getmoviefiles$ <br/>\n",
    " run $moviecluster <someimput> <clustering method 1 or 2> <subset-path>$ <br/>\n",
    " 1 for pivot algorithm <br/>\n",
    " 2 for linear program based algorithm <br/>"
   ]
  },
  {
   "cell_type": "code",
   "execution_count": null,
   "metadata": {},
   "outputs": [],
   "source": []
  }
 ],
 "metadata": {
  "kernelspec": {
   "display_name": "Python 3",
   "language": "python",
   "name": "python3"
  },
  "language_info": {
   "codemirror_mode": {
    "name": "ipython",
    "version": 3
   },
   "file_extension": ".py",
   "mimetype": "text/x-python",
   "name": "python",
   "nbconvert_exporter": "python",
   "pygments_lexer": "ipython3",
   "version": "3.6.4"
  }
 },
 "nbformat": 4,
 "nbformat_minor": 2
}
